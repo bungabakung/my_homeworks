{
 "cells": [
  {
   "cell_type": "code",
   "execution_count": 21,
   "metadata": {
    "collapsed": false
   },
   "outputs": [
    {
     "name": "stdout",
     "output_type": "stream",
     "text": [
      "пасмурно\n",
      "+16 °C\n",
      "Восход: 05:49, Закат: 19:02\n"
     ]
    }
   ],
   "source": [
    "import urllib.request  # импортируем модуль \n",
    "import re\n",
    "req = urllib.request.Request('https://yandex.ru/pogoda/moscow')\n",
    "with urllib.request.urlopen(req) as response:\n",
    "   html = response.read().decode('utf-8')\n",
    "\n",
    "regWeather1 = re.compile('<span class=\"current-weather__comment\">(.*?)</span>', flags=re.U | re.DOTALL)\n",
    "weather1 = regWeather1.findall(html)\n",
    "new_titles = []\n",
    "regTag = re.compile('<.*?>', flags=re.U | re.DOTALL)\n",
    "regSpace = re.compile('\\s{2,}', flags=re.U | re.DOTALL)\n",
    "for t in weather1:\n",
    "    clean_t = regSpace.sub(\"\", t)\n",
    "    clean_t = regTag.sub(\"\", clean_t)\n",
    "    new_titles.append(clean_t)\n",
    "for t in new_titles:\n",
    "    print(t)\n",
    "\n",
    "regWeather2 = re.compile('<div class=\"current-weather__thermometer current-weather__thermometer_type_now\">.*?</div>', flags=re.U | re.DOTALL)\n",
    "weather2 = regWeather2.findall(html)\n",
    "new_titles = []\n",
    "regTag = re.compile('<.*?>', flags=re.U | re.DOTALL)\n",
    "regSpace = re.compile('\\s{2,}', flags=re.U | re.DOTALL)\n",
    "for t in weather2:\n",
    "    clean_t = regSpace.sub(\"\", t)\n",
    "    clean_t = regTag.sub(\"\", clean_t)\n",
    "    new_titles.append(clean_t)\n",
    "for t in new_titles:\n",
    "    print(t)\n",
    "    \n",
    "regvoskhod = re.compile('<div class=\"current-weather__info-row\"><span class=\"current-weather__info-label\">Восход: </span>.*?<span class=\"current-weather__info-label current-weather__info-label_type_sunset\">Закат: </span>.*?</div>', flags=re.U | re.DOTALL)\n",
    "voskhod = regvoskhod.findall(html)\n",
    "new_titles = []\n",
    "regTag = re.compile('<.*?>', flags=re.U | re.DOTALL)\n",
    "regSpace = re.compile('\\s{2,}', flags=re.U | re.DOTALL)\n",
    "for t in voskhod:\n",
    "    clean_t = regSpace.sub(\"\", t)\n",
    "    clean_t = regTag.sub(\"\", clean_t)\n",
    "    new_titles.append(clean_t)\n",
    "for t in new_titles:\n",
    "    print(re.sub('([1-9])З', '\\\\1, З', t))\n",
    "\n",
    "\n",
    "\n"
   ]
  },
  {
   "cell_type": "code",
   "execution_count": null,
   "metadata": {
    "collapsed": true
   },
   "outputs": [],
   "source": []
  },
  {
   "cell_type": "code",
   "execution_count": null,
   "metadata": {
    "collapsed": true
   },
   "outputs": [],
   "source": []
  }
 ],
 "metadata": {
  "kernelspec": {
   "display_name": "Python 3",
   "language": "python",
   "name": "python3"
  },
  "language_info": {
   "codemirror_mode": {
    "name": "ipython",
    "version": 3
   },
   "file_extension": ".py",
   "mimetype": "text/x-python",
   "name": "python",
   "nbconvert_exporter": "python",
   "pygments_lexer": "ipython3",
   "version": "3.4.3"
  }
 },
 "nbformat": 4,
 "nbformat_minor": 0
}
